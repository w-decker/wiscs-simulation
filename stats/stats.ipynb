{
 "cells": [
  {
   "cell_type": "code",
   "execution_count": 2,
   "metadata": {},
   "outputs": [],
   "source": [
    "import pandas as pd\n",
    "import statsmodels.formula.api as smf\n",
    "\n",
    "import matplotlib.pyplot as plt\n",
    "import seaborn as sns   \n",
    "%matplotlib inline\n",
    "\n",
    "import warnings\n",
    "warnings.filterwarnings('ignore')"
   ]
  },
  {
   "cell_type": "code",
   "execution_count": 3,
   "metadata": {},
   "outputs": [
    {
     "data": {
      "text/html": [
       "<div>\n",
       "<style scoped>\n",
       "    .dataframe tbody tr th:only-of-type {\n",
       "        vertical-align: middle;\n",
       "    }\n",
       "\n",
       "    .dataframe tbody tr th {\n",
       "        vertical-align: top;\n",
       "    }\n",
       "\n",
       "    .dataframe thead th {\n",
       "        text-align: right;\n",
       "    }\n",
       "</style>\n",
       "<table border=\"1\" class=\"dataframe\">\n",
       "  <thead>\n",
       "    <tr style=\"text-align: right;\">\n",
       "      <th></th>\n",
       "      <th>participant</th>\n",
       "      <th>group</th>\n",
       "      <th>item_type</th>\n",
       "      <th>question_idx</th>\n",
       "      <th>item_idx</th>\n",
       "      <th>RT</th>\n",
       "    </tr>\n",
       "  </thead>\n",
       "  <tbody>\n",
       "    <tr>\n",
       "      <th>0</th>\n",
       "      <td>0</td>\n",
       "      <td>both__allQ</td>\n",
       "      <td>word</td>\n",
       "      <td>0</td>\n",
       "      <td>0</td>\n",
       "      <td>493.752895</td>\n",
       "    </tr>\n",
       "    <tr>\n",
       "      <th>1</th>\n",
       "      <td>0</td>\n",
       "      <td>both__allQ</td>\n",
       "      <td>image</td>\n",
       "      <td>0</td>\n",
       "      <td>0</td>\n",
       "      <td>474.930928</td>\n",
       "    </tr>\n",
       "    <tr>\n",
       "      <th>2</th>\n",
       "      <td>0</td>\n",
       "      <td>both__allQ</td>\n",
       "      <td>word</td>\n",
       "      <td>0</td>\n",
       "      <td>1</td>\n",
       "      <td>481.147003</td>\n",
       "    </tr>\n",
       "    <tr>\n",
       "      <th>3</th>\n",
       "      <td>0</td>\n",
       "      <td>both__allQ</td>\n",
       "      <td>image</td>\n",
       "      <td>0</td>\n",
       "      <td>1</td>\n",
       "      <td>437.267612</td>\n",
       "    </tr>\n",
       "    <tr>\n",
       "      <th>4</th>\n",
       "      <td>0</td>\n",
       "      <td>both__allQ</td>\n",
       "      <td>word</td>\n",
       "      <td>0</td>\n",
       "      <td>2</td>\n",
       "      <td>566.318718</td>\n",
       "    </tr>\n",
       "  </tbody>\n",
       "</table>\n",
       "</div>"
      ],
      "text/plain": [
       "   participant       group item_type  question_idx  item_idx          RT\n",
       "0            0  both__allQ      word             0         0  493.752895\n",
       "1            0  both__allQ     image             0         0  474.930928\n",
       "2            0  both__allQ      word             0         1  481.147003\n",
       "3            0  both__allQ     image             0         1  437.267612\n",
       "4            0  both__allQ      word             0         2  566.318718"
      ]
     },
     "execution_count": 3,
     "metadata": {},
     "output_type": "execute_result"
    }
   ],
   "source": [
    "df = pd.read_csv('data/data.csv')\n",
    "df.head()"
   ]
  },
  {
   "cell_type": "code",
   "execution_count": 3,
   "metadata": {},
   "outputs": [
    {
     "name": "stdout",
     "output_type": "stream",
     "text": [
      "                              mean        std\n",
      "question_idx item_type                       \n",
      "0            image      486.325945  36.335796\n",
      "             word       515.573713  36.835488\n",
      "1            image      570.018701  39.852486\n",
      "             word       600.157561  38.231441\n",
      "2            image      321.999948  37.926035\n",
      "             word       350.355810  37.132531\n",
      "3            image      406.194478  39.420794\n",
      "             word       436.163927  39.057984\n"
     ]
    }
   ],
   "source": [
    "summary_stats = df.groupby(['question_idx', 'item_type'])['RT'].agg(['mean', 'std'])\n",
    "print(summary_stats)"
   ]
  },
  {
   "cell_type": "code",
   "execution_count": 8,
   "metadata": {},
   "outputs": [
    {
     "name": "stdout",
     "output_type": "stream",
     "text": [
      "                    Mixed Linear Model Regression Results\n",
      "=============================================================================\n",
      "Model:                   MixedLM        Dependent Variable:        RT        \n",
      "No. Observations:        1600           Method:                    REML      \n",
      "No. Groups:              40             Scale:                     7023.8799 \n",
      "Min. group size:         40             Log-Likelihood:            -9346.1610\n",
      "Max. group size:         40             Converged:                 No        \n",
      "Mean group size:         40.0                                                \n",
      "-----------------------------------------------------------------------------\n",
      "                                Coef.  Std.Err.    z    P>|z|  [0.025  0.975]\n",
      "-----------------------------------------------------------------------------\n",
      "Intercept                      519.397    4.958 104.755 0.000 509.679 529.115\n",
      "item_type[T.word]               29.371    7.012   4.189 0.000  15.628  43.114\n",
      "question_idx                   -48.841    2.650 -18.429 0.000 -54.036 -43.647\n",
      "item_type[T.word]:question_idx   0.038    3.748   0.010 0.992  -7.308   7.384\n",
      "Group Var                        0.000                                       \n",
      "=============================================================================\n",
      "\n"
     ]
    },
    {
     "name": "stderr",
     "output_type": "stream",
     "text": [
      "/opt/homebrew/anaconda3/envs/wiscs-stats/lib/python3.13/site-packages/statsmodels/base/model.py:607: ConvergenceWarning: Maximum Likelihood optimization failed to converge. Check mle_retvals\n",
      "  warnings.warn(\"Maximum Likelihood optimization failed to \"\n",
      "/opt/homebrew/anaconda3/envs/wiscs-stats/lib/python3.13/site-packages/statsmodels/regression/mixed_linear_model.py:2200: ConvergenceWarning: Retrying MixedLM optimization with lbfgs\n",
      "  warnings.warn(\n",
      "/opt/homebrew/anaconda3/envs/wiscs-stats/lib/python3.13/site-packages/statsmodels/base/model.py:607: ConvergenceWarning: Maximum Likelihood optimization failed to converge. Check mle_retvals\n",
      "  warnings.warn(\"Maximum Likelihood optimization failed to \"\n",
      "/opt/homebrew/anaconda3/envs/wiscs-stats/lib/python3.13/site-packages/statsmodels/regression/mixed_linear_model.py:2200: ConvergenceWarning: Retrying MixedLM optimization with cg\n",
      "  warnings.warn(\n",
      "/opt/homebrew/anaconda3/envs/wiscs-stats/lib/python3.13/site-packages/statsmodels/base/model.py:607: ConvergenceWarning: Maximum Likelihood optimization failed to converge. Check mle_retvals\n",
      "  warnings.warn(\"Maximum Likelihood optimization failed to \"\n",
      "/opt/homebrew/anaconda3/envs/wiscs-stats/lib/python3.13/site-packages/statsmodels/regression/mixed_linear_model.py:2206: ConvergenceWarning: MixedLM optimization failed, trying a different optimizer may help.\n",
      "  warnings.warn(msg, ConvergenceWarning)\n",
      "/opt/homebrew/anaconda3/envs/wiscs-stats/lib/python3.13/site-packages/statsmodels/regression/mixed_linear_model.py:2218: ConvergenceWarning: Gradient optimization failed, |grad| = 0.219635\n",
      "  warnings.warn(msg, ConvergenceWarning)\n",
      "/opt/homebrew/anaconda3/envs/wiscs-stats/lib/python3.13/site-packages/statsmodels/regression/mixed_linear_model.py:2237: ConvergenceWarning: The MLE may be on the boundary of the parameter space.\n",
      "  warnings.warn(msg, ConvergenceWarning)\n",
      "/opt/homebrew/anaconda3/envs/wiscs-stats/lib/python3.13/site-packages/statsmodels/regression/mixed_linear_model.py:2261: ConvergenceWarning: The Hessian matrix at the estimated parameter values is not positive definite.\n",
      "  warnings.warn(msg, ConvergenceWarning)\n"
     ]
    }
   ],
   "source": [
    "# Fit a linear mixed-effects model\n",
    "model = smf.mixedlm(\"RT ~ item_type * question_idx\", df, groups=df[\"participant\"])\n",
    "result = model.fit()\n",
    "print(result.summary())"
   ]
  },
  {
   "cell_type": "code",
   "execution_count": 15,
   "metadata": {},
   "outputs": [],
   "source": [
    "from typing import Mapping, Tuple\n",
    "from statsmodels.regression.mixed_linear_model import MixedLMResultsWrapper # type: ignore\n",
    "def best_model(models: Mapping[any, MixedLMResultsWrapper], metric:str=\"aic\", print_aic:bool=False) ->Tuple[any, MixedLMResultsWrapper]:\n",
    "    \"\"\"Return the best model based on metric\"\"\"\n",
    "    assert metric in [\"aic\", \"bic\"], \"Invalid metric\"\n",
    "    key = lambda item: getattr(item[1], metric)\n",
    "    label, winner = min(models.items(), key=key)\n",
    "    if print_aic:\n",
    "        for model, result in models.items():\n",
    "            print(f'{model}: {getattr(result, metric)}')\n",
    "    return label, winner"
   ]
  },
  {
   "cell_type": "code",
   "execution_count": 17,
   "metadata": {},
   "outputs": [],
   "source": [
    "model1 = smf.mixedlm(\"RT ~ item_type\", df, groups=df[\"participant\"])\n",
    "result1 = model1.fit(method='lbfgs', reml=False)\n",
    "\n",
    "model2 = smf.mixedlm(\"RT ~ question_idx\", df, groups=df[\"participant\"])\n",
    "result2 = model2.fit(method='lbfgs', reml=False)\n",
    "\n",
    "model3 = smf.mixedlm(\"RT ~ item_type * question_idx\", df, groups=df[\"participant\"])\n",
    "result3 = model3.fit(method='lbfgs',reml=False)"
   ]
  },
  {
   "cell_type": "code",
   "execution_count": 21,
   "metadata": {},
   "outputs": [
    {
     "name": "stdout",
     "output_type": "stream",
     "text": [
      "RT ~ item_type: 19282.879976598797\n",
      "RT ~ question_idx: 18764.605525368082\n",
      "RT ~ item_type * question_idx: 18719.912464546207\n",
      "--------------------------------------------------\n",
      "\n",
      "winner: RT ~ item_type * question_idx\n"
     ]
    },
    {
     "data": {
      "text/html": [
       "<table class=\"simpletable\">\n",
       "<tr>\n",
       "       <td>Model:</td>       <td>MixedLM</td> <td>Dependent Variable:</td>     <td>RT</td>    \n",
       "</tr>\n",
       "<tr>\n",
       "  <td>No. Observations:</td>  <td>1600</td>         <td>Method:</td>           <td>ML</td>    \n",
       "</tr>\n",
       "<tr>\n",
       "     <td>No. Groups:</td>      <td>40</td>          <td>Scale:</td>         <td>7006.3191</td>\n",
       "</tr>\n",
       "<tr>\n",
       "  <td>Min. group size:</td>    <td>40</td>      <td>Log-Likelihood:</td>   <td>-9353.9562</td>\n",
       "</tr>\n",
       "<tr>\n",
       "  <td>Max. group size:</td>    <td>40</td>        <td>Converged:</td>          <td>Yes</td>   \n",
       "</tr>\n",
       "<tr>\n",
       "  <td>Mean group size:</td>   <td>40.0</td>            <td></td>                <td></td>     \n",
       "</tr>\n",
       "</table>\n",
       "<table class=\"simpletable\">\n",
       "<tr>\n",
       "                 <td></td>                 <th>Coef.</th>  <th>Std.Err.</th>    <th>z</th>    <th>P>|z|</th> <th>[0.025</th>  <th>0.975]</th> \n",
       "</tr>\n",
       "<tr>\n",
       "  <th>Intercept</th>                      <td>519.397</td>   <td>4.952</td>  <td>104.886</td> <td>0.000</td> <td>509.691</td> <td>529.102</td>\n",
       "</tr>\n",
       "<tr>\n",
       "  <th>item_type[T.word]</th>              <td>29.371</td>    <td>7.003</td>   <td>4.194</td>  <td>0.000</td> <td>15.645</td>  <td>43.097</td> \n",
       "</tr>\n",
       "<tr>\n",
       "  <th>question_idx</th>                   <td>-48.841</td>   <td>2.647</td>  <td>-18.452</td> <td>0.000</td> <td>-54.029</td> <td>-43.653</td>\n",
       "</tr>\n",
       "<tr>\n",
       "  <th>item_type[T.word]:question_idx</th>  <td>0.038</td>    <td>3.743</td>   <td>0.010</td>  <td>0.992</td> <td>-7.299</td>   <td>7.375</td> \n",
       "</tr>\n",
       "<tr>\n",
       "  <th>Group Var</th>                       <td>0.003</td>      <td></td>        <td></td>       <td></td>       <td></td>        <td></td>    \n",
       "</tr>\n",
       "</table><br/>\n"
      ],
      "text/latex": [
       "\\begin{table}\n",
       "\\caption{Mixed Linear Model Regression Results}\n",
       "\\label{}\n",
       "\\begin{center}\n",
       "\\begin{tabular}{llll}\n",
       "\\hline\n",
       "Model:            & MixedLM & Dependent Variable: & RT          \\\\\n",
       "No. Observations: & 1600    & Method:             & ML          \\\\\n",
       "No. Groups:       & 40      & Scale:              & 7006.3191   \\\\\n",
       "Min. group size:  & 40      & Log-Likelihood:     & -9353.9562  \\\\\n",
       "Max. group size:  & 40      & Converged:          & Yes         \\\\\n",
       "Mean group size:  & 40.0    &                     &             \\\\\n",
       "\\hline\n",
       "\\end{tabular}\n",
       "\\end{center}\n",
       "\n",
       "\\begin{center}\n",
       "\\begin{tabular}{lrrrrrr}\n",
       "\\hline\n",
       "                                 &   Coef. & Std.Err. &       z & P$> |$z$|$ &  [0.025 &  0.975]  \\\\\n",
       "\\hline\n",
       "Intercept                        & 519.397 &    4.952 & 104.886 &       0.000 & 509.691 & 529.102  \\\\\n",
       "item\\_type[T.word]               &  29.371 &    7.003 &   4.194 &       0.000 &  15.645 &  43.097  \\\\\n",
       "question\\_idx                    & -48.841 &    2.647 & -18.452 &       0.000 & -54.029 & -43.653  \\\\\n",
       "item\\_type[T.word]:question\\_idx &   0.038 &    3.743 &   0.010 &       0.992 &  -7.299 &   7.375  \\\\\n",
       "Group Var                        &   0.003 &          &         &             &         &          \\\\\n",
       "\\hline\n",
       "\\end{tabular}\n",
       "\\end{center}\n",
       "\\end{table}\n",
       "\\bigskip\n"
      ],
      "text/plain": [
       "<class 'statsmodels.iolib.summary2.Summary'>\n",
       "\"\"\"\n",
       "                    Mixed Linear Model Regression Results\n",
       "=============================================================================\n",
       "Model:                   MixedLM        Dependent Variable:        RT        \n",
       "No. Observations:        1600           Method:                    ML        \n",
       "No. Groups:              40             Scale:                     7006.3191 \n",
       "Min. group size:         40             Log-Likelihood:            -9353.9562\n",
       "Max. group size:         40             Converged:                 Yes       \n",
       "Mean group size:         40.0                                                \n",
       "-----------------------------------------------------------------------------\n",
       "                                Coef.  Std.Err.    z    P>|z|  [0.025  0.975]\n",
       "-----------------------------------------------------------------------------\n",
       "Intercept                      519.397    4.952 104.886 0.000 509.691 529.102\n",
       "item_type[T.word]               29.371    7.003   4.194 0.000  15.645  43.097\n",
       "question_idx                   -48.841    2.647 -18.452 0.000 -54.029 -43.653\n",
       "item_type[T.word]:question_idx   0.038    3.743   0.010 0.992  -7.299   7.375\n",
       "Group Var                        0.003                                       \n",
       "=============================================================================\n",
       "\n",
       "\"\"\""
      ]
     },
     "execution_count": 21,
     "metadata": {},
     "output_type": "execute_result"
    }
   ],
   "source": [
    "models = {\"RT ~ item_type\":result1, \n",
    "          \"RT ~ question_idx\":result2, \n",
    "          \"RT ~ item_type * question_idx\":result3}\n",
    "label, winner = best_model(models, print_aic=True)\n",
    "\n",
    "print('-'*50)\n",
    "print(f'\\nwinner: {label}')\n",
    "winner.summary() "
   ]
  },
  {
   "cell_type": "code",
   "execution_count": 17,
   "metadata": {},
   "outputs": [
    {
     "data": {
      "text/plain": [
       "np.float64(19282.914092289404)"
      ]
     },
     "execution_count": 17,
     "metadata": {},
     "output_type": "execute_result"
    }
   ],
   "source": []
  },
  {
   "cell_type": "code",
   "execution_count": null,
   "metadata": {},
   "outputs": [],
   "source": []
  }
 ],
 "metadata": {
  "kernelspec": {
   "display_name": "wiscs-stats",
   "language": "python",
   "name": "python3"
  },
  "language_info": {
   "codemirror_mode": {
    "name": "ipython",
    "version": 3
   },
   "file_extension": ".py",
   "mimetype": "text/x-python",
   "name": "python",
   "nbconvert_exporter": "python",
   "pygments_lexer": "ipython3",
   "version": "3.13.1"
  }
 },
 "nbformat": 4,
 "nbformat_minor": 2
}
