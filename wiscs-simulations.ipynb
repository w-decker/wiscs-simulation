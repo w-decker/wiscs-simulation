{
 "cells": [
  {
   "cell_type": "markdown",
   "metadata": {},
   "source": [
    "# WISCS\n",
    "> Words and images in shared conceptual space"
   ]
  },
  {
   "cell_type": "code",
   "execution_count": 1,
   "metadata": {},
   "outputs": [],
   "source": [
    "from wiscs.simulate import DataGenerator\n",
    "from wiscs.utils import set_params\n",
    "from wiscs.viz import Plotter\n",
    "\n",
    "import numpy as np\n",
    "import matplotlib.pyplot as plt "
   ]
  },
  {
   "cell_type": "code",
   "execution_count": 2,
   "metadata": {},
   "outputs": [
    {
     "name": "stdout",
     "output_type": "stream",
     "text": [
      "Params must be a dictionary of dictionaries with the following keys:\n",
      " dict_keys(['word', 'image', 'n_participants', 'n_trials', 'variance'])"
     ]
    }
   ],
   "source": [
    "# set experiment parameters\n",
    "params = set_params(return_empty=True)"
   ]
  },
  {
   "cell_type": "code",
   "execution_count": 3,
   "metadata": {},
   "outputs": [
    {
     "name": "stdout",
     "output_type": "stream",
     "text": [
      "Parameters set successfully\n"
     ]
    }
   ],
   "source": [
    "params = {\n",
    "    \"word\": {\n",
    "        \"perceptual\": 200,\n",
    "        \"conceptual\": 230, \n",
    "        \"task\": 100\n",
    "    }, \n",
    "    \"image\": {\n",
    "        \"perceptual\": 215,\n",
    "        \"conceptual\": 230, \n",
    "        \"task\": 130\n",
    "    },\n",
    "    \"n_participants\": 200,\n",
    "    \"n_trials\": 30,\n",
    "    \"variance\": 0.1\n",
    "}\n",
    "\n",
    "if set_params(params):\n",
    "    print(\"Parameters set successfully\")"
   ]
  },
  {
   "cell_type": "code",
   "execution_count": 4,
   "metadata": {},
   "outputs": [
    {
     "data": {
      "text/html": [
       "<div>\n",
       "<style scoped>\n",
       "    .dataframe tbody tr th:only-of-type {\n",
       "        vertical-align: middle;\n",
       "    }\n",
       "\n",
       "    .dataframe tbody tr th {\n",
       "        vertical-align: top;\n",
       "    }\n",
       "\n",
       "    .dataframe thead th {\n",
       "        text-align: right;\n",
       "    }\n",
       "</style>\n",
       "<table border=\"1\" class=\"dataframe\">\n",
       "  <thead>\n",
       "    <tr style=\"text-align: right;\">\n",
       "      <th></th>\n",
       "      <th>trial</th>\n",
       "      <th>type</th>\n",
       "      <th>RT</th>\n",
       "      <th>modality</th>\n",
       "      <th>participant</th>\n",
       "    </tr>\n",
       "  </thead>\n",
       "  <tbody>\n",
       "    <tr>\n",
       "      <th>0</th>\n",
       "      <td>0</td>\n",
       "      <td>same</td>\n",
       "      <td>0.329264</td>\n",
       "      <td>word</td>\n",
       "      <td>0</td>\n",
       "    </tr>\n",
       "    <tr>\n",
       "      <th>1</th>\n",
       "      <td>0</td>\n",
       "      <td>same</td>\n",
       "      <td>0.483752</td>\n",
       "      <td>image</td>\n",
       "      <td>0</td>\n",
       "    </tr>\n",
       "    <tr>\n",
       "      <th>2</th>\n",
       "      <td>0</td>\n",
       "      <td>diff</td>\n",
       "      <td>0.566773</td>\n",
       "      <td>word</td>\n",
       "      <td>0</td>\n",
       "    </tr>\n",
       "    <tr>\n",
       "      <th>3</th>\n",
       "      <td>0</td>\n",
       "      <td>diff</td>\n",
       "      <td>0.461014</td>\n",
       "      <td>image</td>\n",
       "      <td>0</td>\n",
       "    </tr>\n",
       "    <tr>\n",
       "      <th>4</th>\n",
       "      <td>0</td>\n",
       "      <td>same</td>\n",
       "      <td>0.583543</td>\n",
       "      <td>word</td>\n",
       "      <td>1</td>\n",
       "    </tr>\n",
       "  </tbody>\n",
       "</table>\n",
       "</div>"
      ],
      "text/plain": [
       "   trial  type        RT modality  participant\n",
       "0      0  same  0.329264     word            0\n",
       "1      0  same  0.483752    image            0\n",
       "2      0  diff  0.566773     word            0\n",
       "3      0  diff  0.461014    image            0\n",
       "4      0  same  0.583543     word            1"
      ]
     },
     "execution_count": 4,
     "metadata": {},
     "output_type": "execute_result"
    }
   ],
   "source": [
    "data = DataGenerator(params=params).generate(dist_type='combined').to_pandas()\n",
    "data.head()"
   ]
  },
  {
   "cell_type": "code",
   "execution_count": null,
   "metadata": {},
   "outputs": [],
   "source": []
  }
 ],
 "metadata": {
  "kernelspec": {
   "display_name": "base",
   "language": "python",
   "name": "python3"
  },
  "language_info": {
   "codemirror_mode": {
    "name": "ipython",
    "version": 3
   },
   "file_extension": ".py",
   "mimetype": "text/x-python",
   "name": "python",
   "nbconvert_exporter": "python",
   "pygments_lexer": "ipython3",
   "version": "3.12.4"
  }
 },
 "nbformat": 4,
 "nbformat_minor": 2
}
