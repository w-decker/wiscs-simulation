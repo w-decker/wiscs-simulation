{
 "cells": [
  {
   "cell_type": "markdown",
   "metadata": {},
   "source": [
    "# WISCS\n",
    "> Words and images in shared conceptual space\n",
    "\n",
    "**NOTE**: `power` branch contains modified code. A major refactor is pending and will be merged with `main` ASAP."
   ]
  },
  {
   "cell_type": "markdown",
   "metadata": {},
   "source": [
    "## Imports\n",
    "A specalized module, `wiscs`, has been created to generate data that aligns with the various hypothesis proposed in this study."
   ]
  },
  {
   "cell_type": "code",
   "execution_count": 1,
   "metadata": {},
   "outputs": [],
   "source": [
    "from wiscs import simulate, make_tasks, print_deltas"
   ]
  },
  {
   "cell_type": "code",
   "execution_count": 5,
   "metadata": {},
   "outputs": [
    {
     "name": "stdout",
     "output_type": "stream",
     "text": [
      "   participant       group item_type  question_idx  item_idx          RT\n",
      "0            0  both__allQ      word             0         0  351.028601\n",
      "1            0  both__allQ     image             0         0  299.505542\n",
      "2            0  both__allQ      word             0         1  274.889947\n",
      "3            0  both__allQ     image             0         1  230.073288\n",
      "4            0  both__allQ      word             0         2  287.701950\n"
     ]
    }
   ],
   "source": [
    "design = dict(questions=True, items=True)\n",
    "word_params = {'encoding': 200, 'decision': 50}\n",
    "image_params = {'encoding': 150, 'decision': 70}\n",
    "noise_params = {'word': 10, 'image': 10, 'participant': 30, 'question': 20}\n",
    "n_participants = 40\n",
    "n_items = 5\n",
    "n_questions = 4\n",
    "task = make_tasks(100, 350, n_questions)\n",
    "task_effects = {\n",
    "    'word':  task,\n",
    "    'image': task,\n",
    "}\n",
    "\n",
    "# task_effects = {\n",
    "#     'word':  make_tasks(100, 350, n_questions), #task,\n",
    "#     'image': make_tasks(200, 500, n_questions)#task,\n",
    "# }\n",
    "\n",
    "df = simulate(\n",
    "    design=design,\n",
    "    word=word_params,\n",
    "    image=image_params,\n",
    "    noise=noise_params,\n",
    "    n_participants=n_participants,\n",
    "    n_items=n_items,\n",
    "    n_questions=n_questions,\n",
    "    task=task_effects\n",
    ")\n",
    "print(df.head())"
   ]
  },
  {
   "cell_type": "code",
   "execution_count": 6,
   "metadata": {},
   "outputs": [
    {
     "name": "stdout",
     "output_type": "stream",
     "text": [
      "Q0: | word - image | = 30.93\n",
      "Q1: | word - image | = 28.91\n",
      "Q2: | word - image | = 28.79\n",
      "Q3: | word - image | = 29.06\n"
     ]
    }
   ],
   "source": [
    "print_deltas(df)"
   ]
  },
  {
   "cell_type": "code",
   "execution_count": null,
   "metadata": {},
   "outputs": [],
   "source": []
  }
 ],
 "metadata": {
  "kernelspec": {
   "display_name": "base",
   "language": "python",
   "name": "python3"
  },
  "language_info": {
   "codemirror_mode": {
    "name": "ipython",
    "version": 3
   },
   "file_extension": ".py",
   "mimetype": "text/x-python",
   "name": "python",
   "nbconvert_exporter": "python",
   "pygments_lexer": "ipython3",
   "version": "3.12.0"
  }
 },
 "nbformat": 4,
 "nbformat_minor": 2
}
